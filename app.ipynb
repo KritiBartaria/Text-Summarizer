{
 "cells": [
  {
   "cell_type": "code",
   "execution_count": 12,
   "metadata": {},
   "outputs": [
    {
     "name": "stdout",
     "output_type": "stream",
     "text": [
      "Collecting import_ipynb\n",
      "  Downloading import-ipynb-0.1.3.tar.gz (4.0 kB)\n",
      "Building wheels for collected packages: import-ipynb\n",
      "  Building wheel for import-ipynb (setup.py) ... \u001b[?25ldone\n",
      "\u001b[?25h  Created wheel for import-ipynb: filename=import_ipynb-0.1.3-py3-none-any.whl size=2976 sha256=ea96f5cc8f8cd47d4111c80d00689e641b59759003911d5b927a42c3c964c1a3\n",
      "  Stored in directory: /Users/kriti/Library/Caches/pip/wheels/06/7e/ad/1cb03e935234186825cefc7e2c8f3451b4f654b5bc72232a7b\n",
      "Successfully built import-ipynb\n",
      "Installing collected packages: import-ipynb\n",
      "Successfully installed import-ipynb-0.1.3\n",
      "Note: you may need to restart the kernel to use updated packages.\n"
     ]
    }
   ],
   "source": [
    "pip install import_ipynb"
   ]
  },
  {
   "cell_type": "code",
   "execution_count": 6,
   "metadata": {},
   "outputs": [],
   "source": [
    "import import_ipynb\n",
    "import tf_idf_algorithm as t\n",
    "from werkzeug.wrappers import Request, Response\n",
    "from flask import Flask, request, render_template\n",
    "from werkzeug.serving import run_simple"
   ]
  },
  {
   "cell_type": "code",
   "execution_count": 7,
   "metadata": {},
   "outputs": [
    {
     "name": "stderr",
     "output_type": "stream",
     "text": [
      " * Running on http://localhost:9000/ (Press CTRL+C to quit)\n",
      "127.0.0.1 - - [16/Mar/2022 01:12:32] \"\u001b[37mGET / HTTP/1.1\u001b[0m\" 200 -\n",
      "127.0.0.1 - - [16/Mar/2022 01:12:32] \"\u001b[33mGET /favicon.ico HTTP/1.1\u001b[0m\" 404 -\n",
      "127.0.0.1 - - [16/Mar/2022 01:12:46] \"\u001b[37mPOST /templates HTTP/1.1\u001b[0m\" 200 -\n"
     ]
    }
   ],
   "source": [
    "app = Flask(__name__)\n",
    "@app.route('/templates', methods =['POST'])\n",
    "def original_text_form():\n",
    "    text = request.form['input_text']\n",
    "    #number_of_sent = request.form['num_sentences']\n",
    "    # print(\"TEXT:\\n\",text)\n",
    "    summary = t.run_summarization(text)\n",
    "    # print(\"*\"*30)\n",
    "    # print(summary)\n",
    "    return render_template('index_k.html', title = \"Summarizer\", original_text = text, output_summary = summary, num_sentences = 5)\n",
    "\n",
    "@app.route('/')\n",
    "def homepage():\n",
    "    title = \"Text Summarizer Tool\"\n",
    "    return render_template('index_k.html', title = title)\n"
   ]
  },
  {
   "cell_type": "code",
   "execution_count": null,
   "metadata": {},
   "outputs": [],
   "source": [
    "if __name__ == \"__main__\":\n",
    "    app.run()"
   ]
  }
 ],
 "metadata": {
  "kernelspec": {
   "display_name": "Python 3",
   "language": "python",
   "name": "python3"
  },
  "language_info": {
   "codemirror_mode": {
    "name": "ipython",
    "version": 3
   },
   "file_extension": ".py",
   "mimetype": "text/x-python",
   "name": "python",
   "nbconvert_exporter": "python",
   "pygments_lexer": "ipython3",
   "version": "3.8.5"
  }
 },
 "nbformat": 4,
 "nbformat_minor": 4
}
